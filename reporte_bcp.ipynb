{
 "cells": [
  {
   "cell_type": "code",
   "execution_count": 1,
   "metadata": {},
   "outputs": [],
   "source": [
    "import pandas as pd\n",
    "import matplotlib.pyplot as plt\n",
    "import seaborn as sns\n",
    "from sklearn.metrics import classification_report"
   ]
  },
  {
   "cell_type": "code",
   "execution_count": 4,
   "metadata": {},
   "outputs": [
    {
     "name": "stdout",
     "output_type": "stream",
     "text": [
      "0.9425981873111783\n",
      "0.9411764705882353\n"
     ]
    },
    {
     "data": {
      "image/png": "[encoded data removed]",
      "text/plain": [
       "<Figure size 432x288 with 1 Axes>"
      ]
     },
     "metadata": {},
     "output_type": "display_data"
    },
    {
     "name": "stdout",
     "output_type": "stream",
     "text": [
      "         category  count\n",
      "0        Correcto    624\n",
      "1      Incorrecto     38\n",
      "2  No clasificado      1\n"
     ]
    }
   ],
   "source": [
    "data = pd.read_csv('data/transactions_random_sample_13feb17.csv', sep=',', index_col=False) # here the data\n",
    "\n",
    "data_wo_noclass = data.loc[data['category_name'] != 'Sin categoría'].reset_index(drop=True)\n",
    "print(data_wo_noclass['similarity'].sum()/len(data_wo_noclass))\n",
    "print(data['similarity'].sum()/len(data))\n",
    "\n",
    "all_resume = {\n",
    "    'category' : ['Correcto', 'Incorrecto', 'No clasificado'], \n",
    "    'count': [data_wo_noclass['similarity'].sum(), len(data_wo_noclass.loc[data_wo_noclass['similarity'] == 0]), len(data.loc[data['category_name']=='Sin categoría'])]\n",
    "    } \n",
    "all_resume_df = pd.DataFrame.from_dict(all_resume)\n",
    "\n",
    "colors = sns.color_palette('pastel')[0:5]\n",
    "\n",
    "#create pie chart\n",
    "plt.pie(all_resume_df['count'], labels=all_resume_df['category'], colors = colors, autopct='%1.1f%%')\n",
    "\n",
    "plt.show()\n",
    "print(all_resume_df)"
   ]
  },
  {
   "cell_type": "code",
   "execution_count": 5,
   "metadata": {},
   "outputs": [
    {
     "name": "stdout",
     "output_type": "stream",
     "text": [
      "                           precision    recall  f1-score   support\n",
      "\n",
      "       Ahorro e Inversión       1.00      1.00      1.00        47\n",
      "   Automóvil y Transporte       0.75      1.00      0.86         6\n",
      "      Cuentas & Servicios       0.43      1.00      0.61        10\n",
      "          Entretenimiento       1.00      1.00      1.00         4\n",
      "       Gastos Financieros       0.76      1.00      0.86        16\n",
      "          Hogar y Familia       0.00      0.00      0.00         1\n",
      "            Pago Créditos       0.80      0.89      0.84         9\n",
      "             Restaurantes       0.93      0.59      0.72        22\n",
      "        Salud y Bienestar       0.50      0.13      0.21        15\n",
      "                 Shopping       0.57      0.67      0.62        12\n",
      "            Sin categoría       0.00      0.00      0.00         1\n",
      "            Supermercados       0.86      0.86      0.86        14\n",
      "Transf. entre mis Cuentas       1.00      1.00      1.00        16\n",
      " Transferencias y Retiros       1.00      0.97      0.98       220\n",
      "      Viajes y Vacaciones       0.00      0.00      0.00         1\n",
      "\n",
      "                 accuracy                           0.90       394\n",
      "                macro avg       0.64      0.67      0.64       394\n",
      "             weighted avg       0.92      0.90      0.90       394\n",
      "\n"
     ]
    },
    {
     "name": "stderr",
     "output_type": "stream",
     "text": [
      "C:\\Users\\joaquin\\AppData\\Local\\Packages\\PythonSoftwareFoundation.Python.3.10_qbz5n2kfra8p0\\LocalCache\\local-packages\\Python310\\site-packages\\sklearn\\metrics\\_classification.py:1318: UndefinedMetricWarning: Precision and F-score are ill-defined and being set to 0.0 in labels with no predicted samples. Use `zero_division` parameter to control this behavior.\n",
      "  _warn_prf(average, modifier, msg_start, len(result))\n",
      "C:\\Users\\joaquin\\AppData\\Local\\Packages\\PythonSoftwareFoundation.Python.3.10_qbz5n2kfra8p0\\LocalCache\\local-packages\\Python310\\site-packages\\sklearn\\metrics\\_classification.py:1318: UndefinedMetricWarning: Precision and F-score are ill-defined and being set to 0.0 in labels with no predicted samples. Use `zero_division` parameter to control this behavior.\n",
      "  _warn_prf(average, modifier, msg_start, len(result))\n",
      "C:\\Users\\joaquin\\AppData\\Local\\Packages\\PythonSoftwareFoundation.Python.3.10_qbz5n2kfra8p0\\LocalCache\\local-packages\\Python310\\site-packages\\sklearn\\metrics\\_classification.py:1318: UndefinedMetricWarning: Precision and F-score are ill-defined and being set to 0.0 in labels with no predicted samples. Use `zero_division` parameter to control this behavior.\n",
      "  _warn_prf(average, modifier, msg_start, len(result))\n"
     ]
    },
    {
     "data": {
      "image/png": "[encoded data removed]",
      "text/plain": [
       "<Figure size 432x288 with 1 Axes>"
      ]
     },
     "metadata": {},
     "output_type": "display_data"
    }
   ],
   "source": [
    "expense = data.loc[data['amount'] < 0].reset_index(drop=True)\n",
    "# expense = expense.loc[expense['nombre'] != 'No clasificado']\n",
    "report_expense = classification_report(expense['category_name'], expense['true_category'])\n",
    "print(report_expense)\n",
    "expense_wo_noclass = expense.loc[expense['category_name'] != 'Sin categoría'].reset_index(drop=True)\n",
    "expense_resume = {\n",
    "    'category' : ['Correcto', 'Incorrecto', 'No clasificado'], \n",
    "    'count': [expense_wo_noclass['similarity'].sum(), len(expense_wo_noclass.loc[expense_wo_noclass['similarity'] == 0]), len(expense.loc[expense['category_name']=='Sin categoría'])]\n",
    "    } \n",
    "expense_resume_df = pd.DataFrame.from_dict(expense_resume)\n",
    "\n",
    "colors = sns.color_palette('pastel')[0:5]\n",
    "\n",
    "#create pie chart\n",
    "plt.pie(expense_resume_df['count'], labels=expense_resume_df['category'], colors = colors, autopct='%1.1f%%')\n",
    "\n",
    "plt.show()"
   ]
  },
  {
   "cell_type": "code",
   "execution_count": 6,
   "metadata": {},
   "outputs": [
    {
     "data": {
      "text/html": [
       "<div>\n",
       "<style scoped>\n",
       "    .dataframe tbody tr th:only-of-type {\n",
       "        vertical-align: middle;\n",
       "    }\n",
       "\n",
       "    .dataframe tbody tr th {\n",
       "        vertical-align: top;\n",
       "    }\n",
       "\n",
       "    .dataframe thead th {\n",
       "        text-align: right;\n",
       "    }\n",
       "</style>\n",
       "<table border=\"1\" class=\"dataframe\">\n",
       "  <thead>\n",
       "    <tr style=\"text-align: right;\">\n",
       "      <th></th>\n",
       "      <th>category</th>\n",
       "      <th>count</th>\n",
       "    </tr>\n",
       "  </thead>\n",
       "  <tbody>\n",
       "    <tr>\n",
       "      <th>0</th>\n",
       "      <td>Correcto</td>\n",
       "      <td>355</td>\n",
       "    </tr>\n",
       "    <tr>\n",
       "      <th>1</th>\n",
       "      <td>Incorrecto</td>\n",
       "      <td>38</td>\n",
       "    </tr>\n",
       "    <tr>\n",
       "      <th>2</th>\n",
       "      <td>No clasificado</td>\n",
       "      <td>1</td>\n",
       "    </tr>\n",
       "  </tbody>\n",
       "</table>\n",
       "</div>"
      ],
      "text/plain": [
       "         category  count\n",
       "0        Correcto    355\n",
       "1      Incorrecto     38\n",
       "2  No clasificado      1"
      ]
     },
     "execution_count": 6,
     "metadata": {},
     "output_type": "execute_result"
    }
   ],
   "source": [
    "expense_resume_df"
   ]
  },
  {
   "cell_type": "code",
   "execution_count": 7,
   "metadata": {},
   "outputs": [
    {
     "data": {
      "image/png": "[encoded data removed]",
      "text/plain": [
       "<Figure size 432x288 with 1 Axes>"
      ]
     },
     "metadata": {},
     "output_type": "display_data"
    },
    {
     "data": {
      "text/html": [
       "<div>\n",
       "<style scoped>\n",
       "    .dataframe tbody tr th:only-of-type {\n",
       "        vertical-align: middle;\n",
       "    }\n",
       "\n",
       "    .dataframe tbody tr th {\n",
       "        vertical-align: top;\n",
       "    }\n",
       "\n",
       "    .dataframe thead th {\n",
       "        text-align: right;\n",
       "    }\n",
       "</style>\n",
       "<table border=\"1\" class=\"dataframe\">\n",
       "  <thead>\n",
       "    <tr style=\"text-align: right;\">\n",
       "      <th></th>\n",
       "      <th>category</th>\n",
       "      <th>count</th>\n",
       "    </tr>\n",
       "  </thead>\n",
       "  <tbody>\n",
       "    <tr>\n",
       "      <th>0</th>\n",
       "      <td>Correcto</td>\n",
       "      <td>269</td>\n",
       "    </tr>\n",
       "    <tr>\n",
       "      <th>1</th>\n",
       "      <td>Incorrecto</td>\n",
       "      <td>0</td>\n",
       "    </tr>\n",
       "    <tr>\n",
       "      <th>2</th>\n",
       "      <td>No clasificado</td>\n",
       "      <td>0</td>\n",
       "    </tr>\n",
       "  </tbody>\n",
       "</table>\n",
       "</div>"
      ],
      "text/plain": [
       "         category  count\n",
       "0        Correcto    269\n",
       "1      Incorrecto      0\n",
       "2  No clasificado      0"
      ]
     },
     "execution_count": 7,
     "metadata": {},
     "output_type": "execute_result"
    }
   ],
   "source": [
    "income = data.loc[data['amount'] > 0].reset_index(drop=True)\n",
    "income_wo_noclass = income.loc[income['category_name'] != 'Sin categoría'].reset_index(drop=True)\n",
    "income_resume = {\n",
    "    'category' : ['Correcto', 'Incorrecto', 'No clasificado'], \n",
    "    'count': [income_wo_noclass['similarity'].sum(), len(income_wo_noclass.loc[income_wo_noclass['similarity'] == 0]), len(income.loc[income['category_name']=='Sin categoría'])]\n",
    "    } \n",
    "income_resume_df = pd.DataFrame.from_dict(income_resume)\n",
    "\n",
    "colors = sns.color_palette('pastel')[0:5]\n",
    "\n",
    "#create pie chart\n",
    "plt.pie(income_resume_df['count'], labels=income_resume_df['category'], colors = colors, autopct='%1.1f%%')\n",
    "\n",
    "plt.show()\n",
    "\n",
    "income_resume_df"
   ]
  },
  {
   "cell_type": "code",
   "execution_count": null,
   "metadata": {},
   "outputs": [],
   "source": []
  }
 ],
 "metadata": {
  "kernelspec": {
   "display_name": "Python 3",
   "language": "python",
   "name": "python3"
  },
  "language_info": {
   "codemirror_mode": {
    "name": "ipython",
    "version": 3
   },
   "file_extension": ".py",
   "mimetype": "text/x-python",
   "name": "python",
   "nbconvert_exporter": "python",
   "pygments_lexer": "ipython3",
   "version": "3.10.10"
  },
  "orig_nbformat": 4,
  "vscode": {
   "interpreter": {
    "hash": "63525ae0099931c492671a5f10c749bfbb690cba494d4df38b32de5447d5c917"
   }
  }
 },
 "nbformat": 4,
 "nbformat_minor": 2
}
